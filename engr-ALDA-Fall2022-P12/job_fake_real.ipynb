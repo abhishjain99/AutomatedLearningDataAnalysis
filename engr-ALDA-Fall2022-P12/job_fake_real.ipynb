{
  "cells": [
    {
      "cell_type": "markdown",
      "metadata": {
        "cell_id": "dee1d605947346ba92fb38de9bf60a34",
        "deepnote_cell_type": "text-cell-h2",
        "formattedRanges": [],
        "id": "iZxA7heu6DFb",
        "is_collapsed": false,
        "tags": []
      },
      "source": [
        "## Imports"
      ]
    },
    {
      "cell_type": "code",
      "execution_count": 2,
      "metadata": {
        "cell_id": "4920c70fb0ad4d63aa213df3a8ce8743",
        "deepnote_cell_type": "code",
        "deepnote_to_be_reexecuted": false,
        "execution_millis": 1,
        "execution_start": 1670268632340,
        "id": "PbhGowOi6DFd",
        "source_hash": "f29c19a6",
        "tags": []
      },
      "outputs": [],
      "source": [
        "# If any of the library below is not present, uncomment below line.\n",
        "# !pip install imbalanced-learn"
      ]
    },
    {
      "cell_type": "code",
      "execution_count": null,
      "metadata": {
        "cell_id": "b1c3081264914a968d740bac2c2aadb8",
        "deepnote_cell_type": "code",
        "deepnote_to_be_reexecuted": false,
        "execution_millis": 2341,
        "execution_start": 1670268633956,
        "id": "PIuNGeuN6DFf",
        "source_hash": "62b755e",
        "tags": []
      },
      "outputs": [],
      "source": [
        "# Libraries Imports\n",
        "import pandas as pd\n",
        "import numpy as np\n",
        "\n",
        "#SMOTE libraries import\n",
        "from imblearn.over_sampling import SMOTE\n",
        "\n",
        "# Ignoring the warnings\n",
        "import warnings\n",
        "warnings.filterwarnings(\"ignore\")\n",
        "\n",
        "#Model imports\n",
        "from sklearn import svm\n",
        "from sklearn.ensemble import ExtraTreesClassifier\n",
        "from sklearn.neighbors import KNeighborsClassifier\n",
        "from sklearn.naive_bayes import GaussianNB\n",
        "from sklearn.tree import DecisionTreeClassifier\n",
        "from sklearn.linear_model import LogisticRegression\n",
        "\n",
        "#Model related imports\n",
        "from sklearn.model_selection import KFold\n",
        "from sklearn.model_selection import cross_val_score\n",
        "from sklearn.model_selection import RepeatedStratifiedKFold\n",
        "from sklearn.model_selection import GridSearchCV, train_test_split\n",
        "\n",
        "from sklearn import metrics\n",
        "from sklearn.metrics import accuracy_score, precision_score, recall_score, f1_score\n",
        "from imblearn.pipeline import Pipeline\n",
        "\n",
        "#Graphical imports\n",
        "import matplotlib.pyplot as plt\n",
        "import seaborn as sns\n",
        "import tabulate"
      ]
    },
    {
      "cell_type": "markdown",
      "metadata": {
        "cell_id": "1ec8c58f0a204fb9be0b1f7b032bea05",
        "deepnote_cell_type": "text-cell-h2",
        "formattedRanges": [],
        "id": "D1wuACGT6DFf",
        "is_collapsed": false,
        "tags": []
      },
      "source": [
        "## Data selection"
      ]
    },
    {
      "cell_type": "code",
      "execution_count": 5,
      "metadata": {
        "cell_id": "a6abe4a05dcf4be6be00118b4995da20",
        "colab": {
          "base_uri": "https://localhost:8080/",
          "height": 937
        },
        "deepnote_cell_type": "code",
        "deepnote_to_be_reexecuted": false,
        "execution_millis": 789,
        "execution_start": 1670268887936,
        "id": "umPh4MwY6DFg",
        "outputId": "60363da3-08e8-4995-972c-1403fb7a6a37",
        "source_hash": "32ad8b05",
        "tags": []
      },
      "outputs": [
        {
          "data": {
            "text/html": [
              "\n",
              "  <div id=\"df-42e30649-f504-4e32-9107-c666db2a4e0d\">\n",
              "    <div class=\"colab-df-container\">\n",
              "      <div>\n",
              "<style scoped>\n",
              "    .dataframe tbody tr th:only-of-type {\n",
              "        vertical-align: middle;\n",
              "    }\n",
              "\n",
              "    .dataframe tbody tr th {\n",
              "        vertical-align: top;\n",
              "    }\n",
              "\n",
              "    .dataframe thead th {\n",
              "        text-align: right;\n",
              "    }\n",
              "</style>\n",
              "<table border=\"1\" class=\"dataframe\">\n",
              "  <thead>\n",
              "    <tr style=\"text-align: right;\">\n",
              "      <th></th>\n",
              "      <th>title</th>\n",
              "      <th>location</th>\n",
              "      <th>department</th>\n",
              "      <th>salary_range</th>\n",
              "      <th>company_profile</th>\n",
              "      <th>description</th>\n",
              "      <th>requirements</th>\n",
              "      <th>benefits</th>\n",
              "      <th>telecommuting</th>\n",
              "      <th>has_company_logo</th>\n",
              "      <th>has_questions</th>\n",
              "      <th>employment_type</th>\n",
              "      <th>required_experience</th>\n",
              "      <th>required_education</th>\n",
              "      <th>industry</th>\n",
              "      <th>function</th>\n",
              "      <th>fraudulent</th>\n",
              "    </tr>\n",
              "  </thead>\n",
              "  <tbody>\n",
              "    <tr>\n",
              "      <th>0</th>\n",
              "      <td>Marketing Intern</td>\n",
              "      <td>US, NY, New York</td>\n",
              "      <td>Marketing</td>\n",
              "      <td>NaN</td>\n",
              "      <td>We're Food52, and we've created a groundbreaki...</td>\n",
              "      <td>Food52, a fast-growing, James Beard Award-winn...</td>\n",
              "      <td>Experience with content management systems a m...</td>\n",
              "      <td>NaN</td>\n",
              "      <td>0</td>\n",
              "      <td>1</td>\n",
              "      <td>0</td>\n",
              "      <td>Other</td>\n",
              "      <td>Internship</td>\n",
              "      <td>NaN</td>\n",
              "      <td>NaN</td>\n",
              "      <td>Marketing</td>\n",
              "      <td>0</td>\n",
              "    </tr>\n",
              "    <tr>\n",
              "      <th>1</th>\n",
              "      <td>Customer Service - Cloud Video Production</td>\n",
              "      <td>NZ, , Auckland</td>\n",
              "      <td>Success</td>\n",
              "      <td>NaN</td>\n",
              "      <td>90 Seconds, the worlds Cloud Video Production ...</td>\n",
              "      <td>Organised - Focused - Vibrant - Awesome!Do you...</td>\n",
              "      <td>What we expect from you:Your key responsibilit...</td>\n",
              "      <td>What you will get from usThrough being part of...</td>\n",
              "      <td>0</td>\n",
              "      <td>1</td>\n",
              "      <td>0</td>\n",
              "      <td>Full-time</td>\n",
              "      <td>Not Applicable</td>\n",
              "      <td>NaN</td>\n",
              "      <td>Marketing and Advertising</td>\n",
              "      <td>Customer Service</td>\n",
              "      <td>0</td>\n",
              "    </tr>\n",
              "    <tr>\n",
              "      <th>2</th>\n",
              "      <td>Commissioning Machinery Assistant (CMA)</td>\n",
              "      <td>US, IA, Wever</td>\n",
              "      <td>NaN</td>\n",
              "      <td>NaN</td>\n",
              "      <td>Valor Services provides Workforce Solutions th...</td>\n",
              "      <td>Our client, located in Houston, is actively se...</td>\n",
              "      <td>Implement pre-commissioning and commissioning ...</td>\n",
              "      <td>NaN</td>\n",
              "      <td>0</td>\n",
              "      <td>1</td>\n",
              "      <td>0</td>\n",
              "      <td>NaN</td>\n",
              "      <td>NaN</td>\n",
              "      <td>NaN</td>\n",
              "      <td>NaN</td>\n",
              "      <td>NaN</td>\n",
              "      <td>0</td>\n",
              "    </tr>\n",
              "    <tr>\n",
              "      <th>3</th>\n",
              "      <td>Account Executive - Washington DC</td>\n",
              "      <td>US, DC, Washington</td>\n",
              "      <td>Sales</td>\n",
              "      <td>NaN</td>\n",
              "      <td>Our passion for improving quality of life thro...</td>\n",
              "      <td>THE COMPANY: ESRI – Environmental Systems Rese...</td>\n",
              "      <td>EDUCATION: Bachelor’s or Master’s in GIS, busi...</td>\n",
              "      <td>Our culture is anything but corporate—we have ...</td>\n",
              "      <td>0</td>\n",
              "      <td>1</td>\n",
              "      <td>0</td>\n",
              "      <td>Full-time</td>\n",
              "      <td>Mid-Senior level</td>\n",
              "      <td>Bachelor's Degree</td>\n",
              "      <td>Computer Software</td>\n",
              "      <td>Sales</td>\n",
              "      <td>0</td>\n",
              "    </tr>\n",
              "    <tr>\n",
              "      <th>4</th>\n",
              "      <td>Bill Review Manager</td>\n",
              "      <td>US, FL, Fort Worth</td>\n",
              "      <td>NaN</td>\n",
              "      <td>NaN</td>\n",
              "      <td>SpotSource Solutions LLC is a Global Human Cap...</td>\n",
              "      <td>JOB TITLE: Itemization Review ManagerLOCATION:...</td>\n",
              "      <td>QUALIFICATIONS:RN license in the State of Texa...</td>\n",
              "      <td>Full Benefits Offered</td>\n",
              "      <td>0</td>\n",
              "      <td>1</td>\n",
              "      <td>1</td>\n",
              "      <td>Full-time</td>\n",
              "      <td>Mid-Senior level</td>\n",
              "      <td>Bachelor's Degree</td>\n",
              "      <td>Hospital &amp; Health Care</td>\n",
              "      <td>Health Care Provider</td>\n",
              "      <td>0</td>\n",
              "    </tr>\n",
              "    <tr>\n",
              "      <th>...</th>\n",
              "      <td>...</td>\n",
              "      <td>...</td>\n",
              "      <td>...</td>\n",
              "      <td>...</td>\n",
              "      <td>...</td>\n",
              "      <td>...</td>\n",
              "      <td>...</td>\n",
              "      <td>...</td>\n",
              "      <td>...</td>\n",
              "      <td>...</td>\n",
              "      <td>...</td>\n",
              "      <td>...</td>\n",
              "      <td>...</td>\n",
              "      <td>...</td>\n",
              "      <td>...</td>\n",
              "      <td>...</td>\n",
              "      <td>...</td>\n",
              "    </tr>\n",
              "    <tr>\n",
              "      <th>17875</th>\n",
              "      <td>Account Director - Distribution</td>\n",
              "      <td>CA, ON, Toronto</td>\n",
              "      <td>Sales</td>\n",
              "      <td>NaN</td>\n",
              "      <td>Vend is looking for some awesome new talent to...</td>\n",
              "      <td>Just in case this is the first time you’ve vis...</td>\n",
              "      <td>To ace this role you:Will eat comprehensive St...</td>\n",
              "      <td>What can you expect from us?We have an open cu...</td>\n",
              "      <td>0</td>\n",
              "      <td>1</td>\n",
              "      <td>1</td>\n",
              "      <td>Full-time</td>\n",
              "      <td>Mid-Senior level</td>\n",
              "      <td>NaN</td>\n",
              "      <td>Computer Software</td>\n",
              "      <td>Sales</td>\n",
              "      <td>0</td>\n",
              "    </tr>\n",
              "    <tr>\n",
              "      <th>17876</th>\n",
              "      <td>Payroll Accountant</td>\n",
              "      <td>US, PA, Philadelphia</td>\n",
              "      <td>Accounting</td>\n",
              "      <td>NaN</td>\n",
              "      <td>WebLinc is the e-commerce platform and service...</td>\n",
              "      <td>The Payroll Accountant will focus primarily on...</td>\n",
              "      <td>- B.A. or B.S. in Accounting- Desire to have f...</td>\n",
              "      <td>Health &amp;amp; WellnessMedical planPrescription ...</td>\n",
              "      <td>0</td>\n",
              "      <td>1</td>\n",
              "      <td>1</td>\n",
              "      <td>Full-time</td>\n",
              "      <td>Mid-Senior level</td>\n",
              "      <td>Bachelor's Degree</td>\n",
              "      <td>Internet</td>\n",
              "      <td>Accounting/Auditing</td>\n",
              "      <td>0</td>\n",
              "    </tr>\n",
              "    <tr>\n",
              "      <th>17877</th>\n",
              "      <td>Project Cost Control Staff Engineer - Cost Con...</td>\n",
              "      <td>US, TX, Houston</td>\n",
              "      <td>NaN</td>\n",
              "      <td>NaN</td>\n",
              "      <td>We Provide Full Time Permanent Positions for m...</td>\n",
              "      <td>Experienced Project Cost Control Staff Enginee...</td>\n",
              "      <td>At least 12 years professional experience.Abil...</td>\n",
              "      <td>NaN</td>\n",
              "      <td>0</td>\n",
              "      <td>0</td>\n",
              "      <td>0</td>\n",
              "      <td>Full-time</td>\n",
              "      <td>NaN</td>\n",
              "      <td>NaN</td>\n",
              "      <td>NaN</td>\n",
              "      <td>NaN</td>\n",
              "      <td>0</td>\n",
              "    </tr>\n",
              "    <tr>\n",
              "      <th>17878</th>\n",
              "      <td>Graphic Designer</td>\n",
              "      <td>NG, LA, Lagos</td>\n",
              "      <td>NaN</td>\n",
              "      <td>NaN</td>\n",
              "      <td>NaN</td>\n",
              "      <td>Nemsia Studios is looking for an experienced v...</td>\n",
              "      <td>1. Must be fluent in the latest versions of Co...</td>\n",
              "      <td>Competitive salary (compensation will be based...</td>\n",
              "      <td>0</td>\n",
              "      <td>0</td>\n",
              "      <td>1</td>\n",
              "      <td>Contract</td>\n",
              "      <td>Not Applicable</td>\n",
              "      <td>Professional</td>\n",
              "      <td>Graphic Design</td>\n",
              "      <td>Design</td>\n",
              "      <td>0</td>\n",
              "    </tr>\n",
              "    <tr>\n",
              "      <th>17879</th>\n",
              "      <td>Web Application Developers</td>\n",
              "      <td>NZ, N, Wellington</td>\n",
              "      <td>Engineering</td>\n",
              "      <td>NaN</td>\n",
              "      <td>Vend is looking for some awesome new talent to...</td>\n",
              "      <td>Who are we?Vend is an award winning web based ...</td>\n",
              "      <td>We want to hear from you if:You have an in-dep...</td>\n",
              "      <td>NaN</td>\n",
              "      <td>0</td>\n",
              "      <td>1</td>\n",
              "      <td>1</td>\n",
              "      <td>Full-time</td>\n",
              "      <td>Mid-Senior level</td>\n",
              "      <td>NaN</td>\n",
              "      <td>Computer Software</td>\n",
              "      <td>Engineering</td>\n",
              "      <td>0</td>\n",
              "    </tr>\n",
              "  </tbody>\n",
              "</table>\n",
              "<p>17880 rows × 17 columns</p>\n",
              "</div>\n",
              "      <button class=\"colab-df-convert\" onclick=\"convertToInteractive('df-42e30649-f504-4e32-9107-c666db2a4e0d')\"\n",
              "              title=\"Convert this dataframe to an interactive table.\"\n",
              "              style=\"display:none;\">\n",
              "        \n",
              "  <svg xmlns=\"http://www.w3.org/2000/svg\" height=\"24px\"viewBox=\"0 0 24 24\"\n",
              "       width=\"24px\">\n",
              "    <path d=\"M0 0h24v24H0V0z\" fill=\"none\"/>\n",
              "    <path d=\"M18.56 5.44l.94 2.06.94-2.06 2.06-.94-2.06-.94-.94-2.06-.94 2.06-2.06.94zm-11 1L8.5 8.5l.94-2.06 2.06-.94-2.06-.94L8.5 2.5l-.94 2.06-2.06.94zm10 10l.94 2.06.94-2.06 2.06-.94-2.06-.94-.94-2.06-.94 2.06-2.06.94z\"/><path d=\"M17.41 7.96l-1.37-1.37c-.4-.4-.92-.59-1.43-.59-.52 0-1.04.2-1.43.59L10.3 9.45l-7.72 7.72c-.78.78-.78 2.05 0 2.83L4 21.41c.39.39.9.59 1.41.59.51 0 1.02-.2 1.41-.59l7.78-7.78 2.81-2.81c.8-.78.8-2.07 0-2.86zM5.41 20L4 18.59l7.72-7.72 1.47 1.35L5.41 20z\"/>\n",
              "  </svg>\n",
              "      </button>\n",
              "      \n",
              "  <style>\n",
              "    .colab-df-container {\n",
              "      display:flex;\n",
              "      flex-wrap:wrap;\n",
              "      gap: 12px;\n",
              "    }\n",
              "\n",
              "    .colab-df-convert {\n",
              "      background-color: #E8F0FE;\n",
              "      border: none;\n",
              "      border-radius: 50%;\n",
              "      cursor: pointer;\n",
              "      display: none;\n",
              "      fill: #1967D2;\n",
              "      height: 32px;\n",
              "      padding: 0 0 0 0;\n",
              "      width: 32px;\n",
              "    }\n",
              "\n",
              "    .colab-df-convert:hover {\n",
              "      background-color: #E2EBFA;\n",
              "      box-shadow: 0px 1px 2px rgba(60, 64, 67, 0.3), 0px 1px 3px 1px rgba(60, 64, 67, 0.15);\n",
              "      fill: #174EA6;\n",
              "    }\n",
              "\n",
              "    [theme=dark] .colab-df-convert {\n",
              "      background-color: #3B4455;\n",
              "      fill: #D2E3FC;\n",
              "    }\n",
              "\n",
              "    [theme=dark] .colab-df-convert:hover {\n",
              "      background-color: #434B5C;\n",
              "      box-shadow: 0px 1px 3px 1px rgba(0, 0, 0, 0.15);\n",
              "      filter: drop-shadow(0px 1px 2px rgba(0, 0, 0, 0.3));\n",
              "      fill: #FFFFFF;\n",
              "    }\n",
              "  </style>\n",
              "\n",
              "      <script>\n",
              "        const buttonEl =\n",
              "          document.querySelector('#df-42e30649-f504-4e32-9107-c666db2a4e0d button.colab-df-convert');\n",
              "        buttonEl.style.display =\n",
              "          google.colab.kernel.accessAllowed ? 'block' : 'none';\n",
              "\n",
              "        async function convertToInteractive(key) {\n",
              "          const element = document.querySelector('#df-42e30649-f504-4e32-9107-c666db2a4e0d');\n",
              "          const dataTable =\n",
              "            await google.colab.kernel.invokeFunction('convertToInteractive',\n",
              "                                                     [key], {});\n",
              "          if (!dataTable) return;\n",
              "\n",
              "          const docLinkHtml = 'Like what you see? Visit the ' +\n",
              "            '<a target=\"_blank\" href=https://colab.research.google.com/notebooks/data_table.ipynb>data table notebook</a>'\n",
              "            + ' to learn more about interactive tables.';\n",
              "          element.innerHTML = '';\n",
              "          dataTable['output_type'] = 'display_data';\n",
              "          await google.colab.output.renderOutput(dataTable, element);\n",
              "          const docLink = document.createElement('div');\n",
              "          docLink.innerHTML = docLinkHtml;\n",
              "          element.appendChild(docLink);\n",
              "        }\n",
              "      </script>\n",
              "    </div>\n",
              "  </div>\n",
              "  "
            ],
            "text/plain": [
              "                                                   title  \\\n",
              "0                                       Marketing Intern   \n",
              "1              Customer Service - Cloud Video Production   \n",
              "2                Commissioning Machinery Assistant (CMA)   \n",
              "3                      Account Executive - Washington DC   \n",
              "4                                    Bill Review Manager   \n",
              "...                                                  ...   \n",
              "17875                   Account Director - Distribution    \n",
              "17876                                 Payroll Accountant   \n",
              "17877  Project Cost Control Staff Engineer - Cost Con...   \n",
              "17878                                   Graphic Designer   \n",
              "17879                         Web Application Developers   \n",
              "\n",
              "                   location   department salary_range  \\\n",
              "0          US, NY, New York    Marketing          NaN   \n",
              "1            NZ, , Auckland      Success          NaN   \n",
              "2             US, IA, Wever          NaN          NaN   \n",
              "3        US, DC, Washington        Sales          NaN   \n",
              "4        US, FL, Fort Worth          NaN          NaN   \n",
              "...                     ...          ...          ...   \n",
              "17875       CA, ON, Toronto        Sales          NaN   \n",
              "17876  US, PA, Philadelphia   Accounting          NaN   \n",
              "17877       US, TX, Houston          NaN          NaN   \n",
              "17878         NG, LA, Lagos          NaN          NaN   \n",
              "17879     NZ, N, Wellington  Engineering          NaN   \n",
              "\n",
              "                                         company_profile  \\\n",
              "0      We're Food52, and we've created a groundbreaki...   \n",
              "1      90 Seconds, the worlds Cloud Video Production ...   \n",
              "2      Valor Services provides Workforce Solutions th...   \n",
              "3      Our passion for improving quality of life thro...   \n",
              "4      SpotSource Solutions LLC is a Global Human Cap...   \n",
              "...                                                  ...   \n",
              "17875  Vend is looking for some awesome new talent to...   \n",
              "17876  WebLinc is the e-commerce platform and service...   \n",
              "17877  We Provide Full Time Permanent Positions for m...   \n",
              "17878                                                NaN   \n",
              "17879  Vend is looking for some awesome new talent to...   \n",
              "\n",
              "                                             description  \\\n",
              "0      Food52, a fast-growing, James Beard Award-winn...   \n",
              "1      Organised - Focused - Vibrant - Awesome!Do you...   \n",
              "2      Our client, located in Houston, is actively se...   \n",
              "3      THE COMPANY: ESRI – Environmental Systems Rese...   \n",
              "4      JOB TITLE: Itemization Review ManagerLOCATION:...   \n",
              "...                                                  ...   \n",
              "17875  Just in case this is the first time you’ve vis...   \n",
              "17876  The Payroll Accountant will focus primarily on...   \n",
              "17877  Experienced Project Cost Control Staff Enginee...   \n",
              "17878  Nemsia Studios is looking for an experienced v...   \n",
              "17879  Who are we?Vend is an award winning web based ...   \n",
              "\n",
              "                                            requirements  \\\n",
              "0      Experience with content management systems a m...   \n",
              "1      What we expect from you:Your key responsibilit...   \n",
              "2      Implement pre-commissioning and commissioning ...   \n",
              "3      EDUCATION: Bachelor’s or Master’s in GIS, busi...   \n",
              "4      QUALIFICATIONS:RN license in the State of Texa...   \n",
              "...                                                  ...   \n",
              "17875  To ace this role you:Will eat comprehensive St...   \n",
              "17876  - B.A. or B.S. in Accounting- Desire to have f...   \n",
              "17877  At least 12 years professional experience.Abil...   \n",
              "17878  1. Must be fluent in the latest versions of Co...   \n",
              "17879  We want to hear from you if:You have an in-dep...   \n",
              "\n",
              "                                                benefits  telecommuting  \\\n",
              "0                                                    NaN              0   \n",
              "1      What you will get from usThrough being part of...              0   \n",
              "2                                                    NaN              0   \n",
              "3      Our culture is anything but corporate—we have ...              0   \n",
              "4                                  Full Benefits Offered              0   \n",
              "...                                                  ...            ...   \n",
              "17875  What can you expect from us?We have an open cu...              0   \n",
              "17876  Health &amp; WellnessMedical planPrescription ...              0   \n",
              "17877                                                NaN              0   \n",
              "17878  Competitive salary (compensation will be based...              0   \n",
              "17879                                                NaN              0   \n",
              "\n",
              "       has_company_logo  has_questions employment_type required_experience  \\\n",
              "0                     1              0           Other          Internship   \n",
              "1                     1              0       Full-time      Not Applicable   \n",
              "2                     1              0             NaN                 NaN   \n",
              "3                     1              0       Full-time    Mid-Senior level   \n",
              "4                     1              1       Full-time    Mid-Senior level   \n",
              "...                 ...            ...             ...                 ...   \n",
              "17875                 1              1       Full-time    Mid-Senior level   \n",
              "17876                 1              1       Full-time    Mid-Senior level   \n",
              "17877                 0              0       Full-time                 NaN   \n",
              "17878                 0              1        Contract      Not Applicable   \n",
              "17879                 1              1       Full-time    Mid-Senior level   \n",
              "\n",
              "      required_education                   industry              function  \\\n",
              "0                    NaN                        NaN             Marketing   \n",
              "1                    NaN  Marketing and Advertising      Customer Service   \n",
              "2                    NaN                        NaN                   NaN   \n",
              "3      Bachelor's Degree          Computer Software                 Sales   \n",
              "4      Bachelor's Degree     Hospital & Health Care  Health Care Provider   \n",
              "...                  ...                        ...                   ...   \n",
              "17875                NaN          Computer Software                 Sales   \n",
              "17876  Bachelor's Degree                   Internet   Accounting/Auditing   \n",
              "17877                NaN                        NaN                   NaN   \n",
              "17878       Professional             Graphic Design                Design   \n",
              "17879                NaN          Computer Software           Engineering   \n",
              "\n",
              "       fraudulent  \n",
              "0               0  \n",
              "1               0  \n",
              "2               0  \n",
              "3               0  \n",
              "4               0  \n",
              "...           ...  \n",
              "17875           0  \n",
              "17876           0  \n",
              "17877           0  \n",
              "17878           0  \n",
              "17879           0  \n",
              "\n",
              "[17880 rows x 17 columns]"
            ]
          },
          "execution_count": 5,
          "metadata": {},
          "output_type": "execute_result"
        }
      ],
      "source": [
        "filename = \"P12_fake_job_postings.csv\"\n",
        "\n",
        "dataset = pd.read_csv(filename)\n",
        "dataset_no_id = dataset.drop(columns=['job_id'])\n",
        "dataset_no_id"
      ]
    },
    {
      "cell_type": "markdown",
      "metadata": {
        "cell_id": "3aa9488f490e49e9aa412168972119ae",
        "deepnote_cell_type": "text-cell-h2",
        "formattedRanges": [],
        "id": "PjwspCHA6DFh",
        "is_collapsed": false,
        "tags": []
      },
      "source": [
        "## Data visualization"
      ]
    },
    {
      "cell_type": "code",
      "execution_count": 6,
      "metadata": {
        "cell_id": "c509b65ab78b4aaab72f90f0b6851edc",
        "colab": {
          "base_uri": "https://localhost:8080/",
          "height": 717
        },
        "deepnote_cell_type": "code",
        "deepnote_to_be_reexecuted": false,
        "execution_millis": 1629,
        "execution_start": 1670269604693,
        "id": "U0zwoKV86DFh",
        "outputId": "7e857b36-6c6b-417e-8e8f-c4fdb4039694",
        "source_hash": "98176fa2",
        "tags": []
      },
      "outputs": [
        {
          "data": {
            "image/png": "[encoded data removed]",
            "text/plain": [
              "<Figure size 1080x432 with 1 Axes>"
            ]
          },
          "metadata": {
            "needs_background": "light"
          },
          "output_type": "display_data"
        },
        {
          "data": {
            "image/png": "[encoded data removed]",
            "text/plain": [
              "<Figure size 432x288 with 1 Axes>"
            ]
          },
          "metadata": {
            "needs_background": "light"
          },
          "output_type": "display_data"
        }
      ],
      "source": [
        "### intial_data_visualization(dataset):\n",
        "# Getting unique values count\n",
        "dataset_no_label = dataset.copy().drop(columns=['fraudulent'])\n",
        "unique_vals = [dataset_no_label[col].unique().size for col in dataset_no_label.columns]\n",
        "f_unique, ax_unique = plt.subplots(1,1,figsize=(15,6))\n",
        "ax_unique.plot(list(dataset_no_label.columns), unique_vals, \"k-\")\n",
        "ax_unique.plot(list(dataset_no_label.columns), unique_vals, \"ro\")\n",
        "ax_unique.set_title(\"Unique values - attributewise\")\n",
        "ax_unique.set_xlabel(\"Attributes\")\n",
        "ax_unique.set_ylabel(\"Unique Counts\")\n",
        "ax_unique.set_xticklabels(list(dataset_no_label.columns), rotation=30)\n",
        "\n",
        "def visualize_data_class(dataset, title):\n",
        "    real_vals = (dataset[\"fraudulent\"]==0).sum()\n",
        "    fake_vals = (dataset[\"fraudulent\"]==1).sum()\n",
        "    labels = [\"Real\", \"Fake\"]\n",
        "    vals = [real_vals, fake_vals]\n",
        "    bar_colors=[\"#374EA2\", \"#EF4129\"]\n",
        "    f_fraud, ax_fraud = plt.subplots(1,1)\n",
        "    ax_fraud.bar(labels, vals, label=labels, color=bar_colors)\n",
        "    ax_fraud.set_ylabel(\"Count\")\n",
        "    ax_fraud.legend(title=\"Job Postings\")\n",
        "    ax_fraud.set_title(title)\n",
        "    plt.show()\n",
        "\n",
        "visualize_data_class(dataset, \"Original Dataset\")"
      ]
    },
    {
      "cell_type": "markdown",
      "metadata": {
        "cell_id": "cc05ce78b0414bfc91192bffa2bb976b",
        "deepnote_cell_type": "text-cell-h2",
        "formattedRanges": [],
        "id": "G80fD9IW6DFi",
        "is_collapsed": false,
        "tags": []
      },
      "source": [
        "## Data Preprocessing"
      ]
    },
    {
      "cell_type": "code",
      "execution_count": 7,
      "metadata": {
        "cell_id": "de5b2c3d5e59428d9752ca4464a0112e",
        "colab": {
          "base_uri": "https://localhost:8080/",
          "height": 1000
        },
        "deepnote_cell_type": "code",
        "deepnote_to_be_reexecuted": false,
        "execution_millis": 2162,
        "execution_start": 1670269606952,
        "id": "xoyno4KR6DFj",
        "outputId": "9204c2c5-dfa1-49ce-daf3-cf016170d93c",
        "source_hash": "494e00a0",
        "tags": []
      },
      "outputs": [
        {
          "name": "stdout",
          "output_type": "stream",
          "text": [
            "\n",
            "Correlation Matrix:\n",
            "                         title  location  department  salary_range  \\\n",
            "title                1.000000  0.108996    0.148319      0.119633   \n",
            "location             0.108996  1.000000    0.036406      0.050909   \n",
            "department           0.148319  0.036406    1.000000      0.069141   \n",
            "salary_range         0.119633  0.050909    0.069141      1.000000   \n",
            "company_profile      0.220294  0.075544    0.116334      0.105350   \n",
            "employment_type     -0.076230  0.120573   -0.028196     -0.073005   \n",
            "required_experience -0.026002 -0.019332    0.022856      0.112290   \n",
            "required_education  -0.000442  0.069238    0.050986      0.103305   \n",
            "industry             0.070233  0.046482    0.059183      0.091731   \n",
            "function             0.043842 -0.037178    0.070448      0.071457   \n",
            "fraudulent           0.052733  0.079086    0.035257      0.057828   \n",
            "\n",
            "                     company_profile  employment_type  required_experience  \\\n",
            "title                       0.220294        -0.076230            -0.026002   \n",
            "location                    0.075544         0.120573            -0.019332   \n",
            "department                  0.116334        -0.028196             0.022856   \n",
            "salary_range                0.105350        -0.073005             0.112290   \n",
            "company_profile             1.000000        -0.086988             0.030128   \n",
            "employment_type            -0.086988         1.000000            -0.167349   \n",
            "required_experience         0.030128        -0.167349             1.000000   \n",
            "required_education          0.026730        -0.034647             0.302288   \n",
            "industry                    0.065099        -0.041631             0.151249   \n",
            "function                    0.041513        -0.071670             0.163309   \n",
            "fraudulent                 -0.065694         0.002962            -0.010605   \n",
            "\n",
            "                     required_education  industry  function  fraudulent  \n",
            "title                         -0.000442  0.070233  0.043842    0.052733  \n",
            "location                       0.069238  0.046482 -0.037178    0.079086  \n",
            "department                     0.050986  0.059183  0.070448    0.035257  \n",
            "salary_range                   0.103305  0.091731  0.071457    0.057828  \n",
            "company_profile                0.026730  0.065099  0.041513   -0.065694  \n",
            "employment_type               -0.034647 -0.041631 -0.071670    0.002962  \n",
            "required_experience            0.302288  0.151249  0.163309   -0.010605  \n",
            "required_education             1.000000  0.157866  0.105067    0.042553  \n",
            "industry                       0.157866  1.000000  0.176028    0.017471  \n",
            "function                       0.105067  0.176028  1.000000    0.003221  \n",
            "fraudulent                     0.042553  0.017471  0.003221    1.000000  \n"
          ]
        },
        {
          "data": {
            "image/png": "[encoded data removed]",
            "text/plain": [
              "<Figure size 432x288 with 2 Axes>"
            ]
          },
          "metadata": {
            "needs_background": "light"
          },
          "output_type": "display_data"
        }
      ],
      "source": [
        "# fill null, not applicable and unspecified values with 'No Info'\n",
        "dataset.fillna('No Info', inplace=True)\n",
        "dataset = dataset.replace(['Not Applicable', 'Unspecified'], 'No Info')\n",
        "\n",
        "# removing duplicate entries\n",
        "dup_df = dataset[dataset.duplicated()]\n",
        "no_dup_df = dataset.drop_duplicates()\n",
        "\n",
        "# only keeping selected columns\n",
        "df_selected_cols = no_dup_df[['title', 'location', 'department', 'salary_range' , 'company_profile', 'employment_type', 'required_experience', 'required_education', 'industry', 'function', 'fraudulent']]\n",
        "df_ccount = len(df_selected_cols)\n",
        "\n",
        "# categorical to numerical conversion - https://pandas.pydata.org/docs/reference/api/pandas.factorize.html\n",
        "category_cols = df_selected_cols.select_dtypes(['object']).columns\n",
        "df_selected_cols[category_cols] = df_selected_cols[category_cols].apply(lambda x: pd.factorize(x)[0]) # codes, uniques = pd.factorize(cat)\n",
        "\n",
        "def heatmap_correlation(df, corr_flag=False):\n",
        "    # using heatmap to see correlation between data points\n",
        "    correlation_matrix = df.corr()\n",
        "    if corr_flag: print('\\nCorrelation Matrix:\\n', correlation_matrix)\n",
        "    mask = np.triu(np.ones_like(correlation_matrix, dtype=bool))\n",
        "    f_heatmap, ax_heatmap = plt.subplots(1,1)\n",
        "    i = sns.heatmap(correlation_matrix, mask=mask, annot=correlation_matrix.rank(axis=\"columns\"), cmap=\"autumn\", cbar=ax_heatmap)\n",
        "    ax_heatmap.set_title(\"Heatmap of correlation (by rank)\")\n",
        "heatmap_correlation(df_selected_cols, corr_flag=True)\n",
        "\n",
        "features = df_selected_cols.drop(['fraudulent'],axis=1).columns\n",
        "label = 'fraudulent'"
      ]
    },
    {
      "cell_type": "code",
      "execution_count": 8,
      "metadata": {
        "cell_id": "bac96e5e14664504bf094092860c9d6f",
        "colab": {
          "base_uri": "https://localhost:8080/",
          "height": 556
        },
        "deepnote_cell_type": "code",
        "deepnote_to_be_reexecuted": false,
        "execution_millis": 818,
        "execution_start": 1670269609121,
        "id": "C5oUvOJi6DFj",
        "outputId": "906c5f87-af25-4637-a377-9240db3f3df0",
        "source_hash": "65d26e10",
        "tags": []
      },
      "outputs": [
        {
          "name": "stdout",
          "output_type": "stream",
          "text": [
            "[(11231, 'title'), (3106, 'location'), (1338, 'department'), (875, 'salary_range'), (1710, 'company_profile'), (6, 'employment_type'), (7, 'required_experience'), (13, 'required_education'), (132, 'industry'), (38, 'function'), (2, 'fraudulent')]\n",
            "Index(['title', 'location', 'department', 'salary_range', 'company_profile',\n",
            "       'employment_type', 'required_experience', 'required_education',\n",
            "       'industry', 'function', 'fraudulent'],\n",
            "      dtype='object')\n"
          ]
        },
        {
          "data": {
            "image/png": "[encoded data removed]",
            "text/plain": [
              "<Figure size 1080x432 with 1 Axes>"
            ]
          },
          "metadata": {
            "needs_background": "light"
          },
          "output_type": "display_data"
        }
      ],
      "source": [
        "def vis_cols():\n",
        "    dbf = df_selected_cols\n",
        "    unq_vals = [dbf[col].unique().size for col in dbf.columns]\n",
        "    print([(unq_vals[i],dbf.columns[i]) for i in range(len(unq_vals))])\n",
        "    print(dbf.columns)\n",
        "    f_unq, ax_unq = plt.subplots(1,1,figsize=(15,6))\n",
        "    ax_unq.plot(list(dbf.columns), unq_vals, \"k-\")\n",
        "    ax_unq.plot(list(dbf.columns), unq_vals, \"ro\")\n",
        "    ax_unq.set_title(\"Unique values - attributewise\")\n",
        "    ax_unq.set_xlabel(\"Attributes\")\n",
        "    ax_unq.set_ylabel(\"Unique Counts\")\n",
        "    ax_unq.set_xticklabels(list(dbf.columns), rotation=30)\n",
        "vis_cols()"
      ]
    },
    {
      "cell_type": "markdown",
      "metadata": {
        "cell_id": "30d9a50522b8471c8ac5cb88ca3f8b54",
        "deepnote_cell_type": "text-cell-h2",
        "formattedRanges": [],
        "id": "BF7g8f0i6DFk",
        "is_collapsed": false,
        "tags": []
      },
      "source": [
        "## Model"
      ]
    },
    {
      "cell_type": "markdown",
      "metadata": {
        "cell_id": "8e6358e58ea7418bbdc7ef7c9309c39a",
        "deepnote_cell_type": "text-cell-h3",
        "formattedRanges": [],
        "id": "AsKsIvrl6DFk",
        "is_collapsed": false,
        "tags": []
      },
      "source": [
        "### Data Split"
      ]
    },
    {
      "cell_type": "code",
      "execution_count": 9,
      "metadata": {
        "cell_id": "ec2bb91cc4e34943ad28f661cfd67379",
        "deepnote_cell_type": "code",
        "deepnote_to_be_reexecuted": false,
        "execution_millis": 45,
        "execution_start": 1670269610677,
        "id": "cea_lWS26DFl",
        "source_hash": "70247142",
        "tags": []
      },
      "outputs": [],
      "source": [
        "# train data - 75% / 80%\n",
        "# test data - 25% / 20%\n",
        "\n",
        "X = df_selected_cols.drop(['fraudulent'],axis=1)\n",
        "Y = df_selected_cols[\"fraudulent\"]\n",
        "\n",
        "### splitting(X, Y):\n",
        "X_train_20, X_test_20, y_train_20, y_test_20 = train_test_split(X, Y, stratify=Y, test_size=0.20, shuffle=True, random_state=8)\n",
        "X_train_25, X_test_25, y_train_25, y_test_25 = train_test_split(X, Y, stratify=Y, test_size=0.25, shuffle=True, random_state=8)"
      ]
    },
    {
      "cell_type": "markdown",
      "metadata": {
        "cell_id": "91a5438542404beab827d42a273154aa",
        "deepnote_cell_type": "text-cell-h3",
        "formattedRanges": [],
        "id": "XKLdwdik6DFl",
        "is_collapsed": false,
        "tags": []
      },
      "source": [
        "### SMOTE"
      ]
    },
    {
      "cell_type": "code",
      "execution_count": 10,
      "metadata": {
        "cell_id": "48ba4b8761644081909f86611368fe37",
        "colab": {
          "base_uri": "https://localhost:8080/",
          "height": 807
        },
        "deepnote_cell_type": "code",
        "deepnote_to_be_reexecuted": false,
        "execution_millis": 3002,
        "execution_start": 1670269636317,
        "id": "ZA2v3UpT6DFl",
        "outputId": "1792e0d8-16dc-4c1d-a432-86061bb5c394",
        "source_hash": "3a652c81",
        "tags": []
      },
      "outputs": [
        {
          "data": {
            "image/png": "[encoded data removed]",
            "text/plain": [
              "<Figure size 432x288 with 1 Axes>"
            ]
          },
          "metadata": {
            "needs_background": "light"
          },
          "output_type": "display_data"
        },
        {
          "data": {
            "image/png": "[encoded data removed]",
            "text/plain": [
              "<Figure size 432x288 with 1 Axes>"
            ]
          },
          "metadata": {
            "needs_background": "light"
          },
          "output_type": "display_data"
        },
        {
          "data": {
            "image/png": "[encoded data removed]",
            "text/plain": [
              "<Figure size 432x288 with 1 Axes>"
            ]
          },
          "metadata": {
            "needs_background": "light"
          },
          "output_type": "display_data"
        }
      ],
      "source": [
        "# X = df_selected_cols.drop(['fraudulent'],axis=1)\n",
        "# y = df_selected_cols[\"fraudulent\"]\n",
        "df_train_data = pd.concat([X_train_25, y_train_25], axis=1)\n",
        "visualize_data_class(df_train_data, \"Training Dataset\")\n",
        "\n",
        "\n",
        "oversample = SMOTE(sampling_strategy=0.9)\n",
        "X_train_smoted_25, y_train_smoted_25 = oversample.fit_resample(X_train_25, y_train_25)\n",
        "df_tv_smoted_25 = pd.concat([X_train_smoted_25, y_train_smoted_25], axis=1)\n",
        "visualize_data_class(df_tv_smoted_25, \"Final Training Dataset (75%)\")\n",
        "\n",
        "X_train_smoted_20, y_train_smoted_20 = oversample.fit_resample(X_train_20, y_train_20)\n",
        "df_tv_smoted_20 = pd.concat([X_train_smoted_20, y_train_smoted_20], axis=1)\n",
        "visualize_data_class(df_tv_smoted_20, \"Final Training Dataset (80%)\")\n"
      ]
    },
    {
      "cell_type": "markdown",
      "metadata": {
        "cell_id": "f92eae727cdd4353bd200eca1e7db387",
        "deepnote_cell_type": "text-cell-h3",
        "formattedRanges": [],
        "id": "sJYmmZu06DFl",
        "is_collapsed": false,
        "tags": []
      },
      "source": [
        "### Classifiers"
      ]
    },
    {
      "cell_type": "code",
      "execution_count": 11,
      "metadata": {
        "cell_id": "26407f970ebc4d619f97b6b4d040b5fa",
        "deepnote_cell_type": "code",
        "deepnote_to_be_reexecuted": false,
        "execution_millis": 1,
        "execution_start": 1670269650539,
        "id": "QgqcEGZQ6DFm",
        "source_hash": "9625b449",
        "tags": []
      },
      "outputs": [],
      "source": [
        "def smoted_cv(model, X_train, y_train, text_here=\"this model\"):\n",
        "    steps = [('over', SMOTE()), ('model', model)]\n",
        "    pipeline = Pipeline(steps=steps)\n",
        "    cv = RepeatedStratifiedKFold(n_splits=10, n_repeats=3, random_state=1)\n",
        "    scores = cross_val_score(pipeline, X_train, y_train, scoring='recall', cv=cv, n_jobs=-1)\n",
        "    print(\"Recall for\", text_here, \":\", np.mean(scores))"
      ]
    },
    {
      "cell_type": "code",
      "execution_count": 12,
      "metadata": {
        "cell_id": "aca111534ff94227a781318f3c3b7cc5",
        "deepnote_cell_type": "code",
        "deepnote_to_be_reexecuted": false,
        "execution_millis": 1,
        "execution_start": 1670269651180,
        "id": "n61sDCTI6DFm",
        "source_hash": "199bfaf3",
        "tags": []
      },
      "outputs": [],
      "source": [
        "def evaluate_data(X_train, y_train):\n",
        "    print(\"\\n--- KNN Classifier ---\")\n",
        "    n = [1, 3, 5, 10]\n",
        "    for k in n:\n",
        "        smoted_cv(KNeighborsClassifier(n_neighbors=k), X_train, y_train, text_here=(str(k)+\"NN\"))\n",
        "\n",
        "    print(\"\\n--- Decision Tree Classifier ---\")\n",
        "    smoted_cv(DecisionTreeClassifier(), X_train, y_train, text_here=\"Decision Tree\")\n",
        "\n",
        "    print(\"\\n--- Naive Bayes Classifier ---\")\n",
        "    smoted_cv(GaussianNB(), X_train, y_train, text_here=\"Naive Bayes\")\n",
        "\n",
        "    print(\"\\n--- Logistic Regression Classifier ---\")\n",
        "    smoted_cv(LogisticRegression(random_state=1), X_train, y_train, text_here=\"Logistic Regression\")"
      ]
    },
    {
      "cell_type": "code",
      "execution_count": 13,
      "metadata": {
        "cell_id": "506cfa9f2fed40709266d91dc35d2a9f",
        "colab": {
          "base_uri": "https://localhost:8080/"
        },
        "deepnote_cell_type": "code",
        "deepnote_to_be_reexecuted": false,
        "execution_millis": 95230,
        "execution_start": 1670269797223,
        "id": "gM_uN9hX6DFm",
        "outputId": "08d31d64-0479-4a23-eda0-8434e12b0dd2",
        "source_hash": "9859d0bf",
        "tags": []
      },
      "outputs": [
        {
          "name": "stdout",
          "output_type": "stream",
          "text": [
            "\n",
            "--- KNN Classifier ---\n",
            "Recall for 1NN : 0.6132371794871797\n",
            "Recall for 3NN : 0.653846153846154\n",
            "Recall for 5NN : 0.6702724358974361\n",
            "Recall for 10NN : 0.7015544871794874\n",
            "\n",
            "--- Decision Tree Classifier ---\n",
            "Recall for Decision Tree : 0.7282371794871796\n",
            "\n",
            "--- Naive Bayes Classifier ---\n",
            "Recall for Naive Bayes : 0.608092948717949\n",
            "\n",
            "--- Logistic Regression Classifier ---\n",
            "Recall for Logistic Regression : 0.5958253205128207\n"
          ]
        }
      ],
      "source": [
        "evaluate_data(X_train_25, y_train_25)"
      ]
    },
    {
      "cell_type": "code",
      "execution_count": 14,
      "metadata": {
        "cell_id": "0fcd4c8c2a9648cdb70565188b314b35",
        "colab": {
          "base_uri": "https://localhost:8080/"
        },
        "deepnote_cell_type": "code",
        "deepnote_to_be_reexecuted": false,
        "execution_millis": 99418,
        "execution_start": 1670269892453,
        "id": "fmfvABr86DFm",
        "outputId": "481418be-4e93-47ed-cb3a-1148eae9a973",
        "source_hash": "cb69a834",
        "tags": []
      },
      "outputs": [
        {
          "name": "stdout",
          "output_type": "stream",
          "text": [
            "\n",
            "--- KNN Classifier ---\n",
            "Recall for 1NN : 0.5960110420979985\n",
            "Recall for 3NN : 0.6373706004140787\n",
            "Recall for 5NN : 0.6618771566597654\n",
            "Recall for 10NN : 0.6878881987577639\n",
            "\n",
            "--- Decision Tree Classifier ---\n",
            "Recall for Decision Tree : 0.7277639751552797\n",
            "\n",
            "--- Naive Bayes Classifier ---\n",
            "Recall for Naive Bayes : 0.6021601104209798\n",
            "\n",
            "--- Logistic Regression Classifier ---\n",
            "Recall for Logistic Regression : 0.5752726017943409\n"
          ]
        }
      ],
      "source": [
        "evaluate_data(X_train_20, y_train_20)"
      ]
    },
    {
      "cell_type": "markdown",
      "metadata": {
        "cell_id": "c4785519beda4845a5b3c1cb6d9ca779",
        "deepnote_cell_type": "text-cell-h2",
        "formattedRanges": [],
        "id": "hQk1ry2z6DFm",
        "is_collapsed": false,
        "tags": []
      },
      "source": [
        "## Inference"
      ]
    },
    {
      "cell_type": "markdown",
      "metadata": {
        "cell_id": "11f6faf3cb014615a13c7ffd4a9ab073",
        "deepnote_cell_type": "text-cell-p",
        "formattedRanges": [],
        "id": "JIixaxEI6DFn",
        "is_collapsed": false,
        "tags": []
      },
      "source": [
        "In our example, Positive label refers to the job being fraud and negative label corresponds to the job being a genuine posting. We'll be preferring Recall measure for the below reason:"
      ]
    },
    {
      "cell_type": "markdown",
      "metadata": {
        "cell_id": "7958a75e651b4f94865833269312efc4",
        "deepnote_cell_type": "text-cell-p",
        "formattedRanges": [],
        "id": "mD0TfDUG6DFn",
        "is_collapsed": false,
        "tags": []
      },
      "source": [
        "Consider a False positive scenario"
      ]
    },
    {
      "cell_type": "markdown",
      "metadata": {
        "cell_id": "ac931d6a08fb4233af0adf140ccf7a4c",
        "deepnote_cell_type": "text-cell-p",
        "formattedRanges": [],
        "id": "gEfCyhuG6DFn",
        "is_collapsed": false,
        "tags": []
      },
      "source": [
        "Consider a False negative scenario"
      ]
    },
    {
      "cell_type": "markdown",
      "metadata": {
        "cell_id": "c40db06fdd3a419aa1e066cab618c1af",
        "deepnote_cell_type": "text-cell-p",
        "formattedRanges": [],
        "id": "TNA3pQ7Z6DFn",
        "is_collapsed": false,
        "tags": []
      },
      "source": [
        "Explain False negative > False Positive"
      ]
    },
    {
      "cell_type": "markdown",
      "metadata": {
        "cell_id": "6b2d4a1411b44a0e8c0e13a80e2f17fa",
        "deepnote_cell_type": "text-cell-p",
        "formattedRanges": [],
        "id": "j-wcfo-06DFn",
        "is_collapsed": false,
        "tags": []
      },
      "source": [
        "Therefore, for our model evaluations we'll be preferring Recall measure"
      ]
    },
    {
      "cell_type": "code",
      "execution_count": 15,
      "metadata": {
        "cell_id": "da23e3e851ca4b3b92190833f91cdf3a",
        "deepnote_cell_type": "code",
        "deepnote_to_be_reexecuted": false,
        "execution_millis": 3,
        "execution_start": 1670269991917,
        "id": "eyhj-1L26DFn",
        "source_hash": "52078690",
        "tags": []
      },
      "outputs": [],
      "source": [
        "def m_predict(model, x_data, y_data, typ=\"test\"):\n",
        "    y_pred = model.predict(x_data)\n",
        "    accuracy = metrics.accuracy_score(y_data, y_pred)\n",
        "    recall = metrics.recall_score(y_data, y_pred)\n",
        "    precision = metrics.precision_score(y_data, y_pred)\n",
        "    mets = {'Accuracy': accuracy, 'Recall': recall, 'Precision': precision}\n",
        "    return mets"
      ]
    },
    {
      "cell_type": "code",
      "execution_count": 16,
      "metadata": {
        "cell_id": "4d6502d4e3784df28432508c67fdfdee",
        "colab": {
          "base_uri": "https://localhost:8080/"
        },
        "deepnote_cell_type": "code",
        "deepnote_to_be_reexecuted": false,
        "execution_millis": 729,
        "execution_start": 1670269991931,
        "id": "WZNFtPMj6DFo",
        "outputId": "b392e5f0-3e2f-46d8-c4a1-d75065485256",
        "source_hash": "9ed58878",
        "tags": []
      },
      "outputs": [
        {
          "name": "stdout",
          "output_type": "stream",
          "text": [
            "\n",
            "--- Final Classifier - Decision Tree ---\n",
            "\n",
            ":: Test Dataset (25%) - with Decision Tree ::\n",
            "╒══════╤════════════╤══════════╤═════════════╕\n",
            "│      │   Accuracy │   Recall │   Precision │\n",
            "╞══════╪════════════╪══════════╪═════════════╡\n",
            "│ Test │   0.945861 │ 0.718894 │    0.462908 │\n",
            "╘══════╧════════════╧══════════╧═════════════╛\n",
            "\n",
            ":: Test Dataset (20%) - with Decision Tree ::\n",
            "╒══════╤════════════╤══════════╤═════════════╕\n",
            "│      │   Accuracy │   Recall │   Precision │\n",
            "╞══════╪════════════╪══════════╪═════════════╡\n",
            "│ Test │   0.938479 │ 0.757225 │    0.423948 │\n",
            "╘══════╧════════════╧══════════╧═════════════╛\n"
          ]
        }
      ],
      "source": [
        "### decision_tree_classifier(data):\n",
        "print(\"\\n--- Final Classifier - Decision Tree ---\")\n",
        "all_metri_tv_smoted_25 = pd.DataFrame()\n",
        "model_tv_smoted_25 = DecisionTreeClassifier().fit(X_train_smoted_25,y_train_smoted_25)\n",
        "\n",
        "mets_t_smoted_25 = m_predict(model_tv_smoted_25, X_test_25, y_test_25, typ=\"test\")\n",
        "metri_t_smoted_25 = pd.DataFrame(data=mets_t_smoted_25, index=[\"Test\"])\n",
        "all_metri_tv_smoted_25 = pd.concat([all_metri_tv_smoted_25, metri_t_smoted_25])\n",
        "\n",
        "print(\"\\n:: Test Dataset (25%) - with Decision Tree ::\")\n",
        "print(tabulate.tabulate(all_metri_tv_smoted_25, headers='keys', tablefmt=\"fancy_grid\"))\n",
        "\n",
        "all_metri_tv_smoted_20 = pd.DataFrame()\n",
        "model_tv_smoted_20 = DecisionTreeClassifier().fit(X_train_smoted_20,y_train_smoted_20)\n",
        "\n",
        "mets_t_smoted_20 = m_predict(model_tv_smoted_20, X_test_20, y_test_20, typ=\"test\")\n",
        "metri_t_smoted_20 = pd.DataFrame(data=mets_t_smoted_20, index=[\"Test\"])\n",
        "all_metri_tv_smoted_20 = pd.concat([all_metri_tv_smoted_20, metri_t_smoted_20])\n",
        "\n",
        "print(\"\\n:: Test Dataset (20%) - with Decision Tree ::\")\n",
        "print(tabulate.tabulate(all_metri_tv_smoted_20, headers='keys', tablefmt=\"fancy_grid\"))"
      ]
    },
    {
      "cell_type": "markdown",
      "metadata": {
        "cell_id": "d6d11603b6a54250bd7bae37c047f0d9",
        "deepnote_cell_type": "text-cell-h2",
        "formattedRanges": [],
        "id": "HVlSNAKV6DFo",
        "is_collapsed": false,
        "tags": []
      },
      "source": [
        "## Conclusion"
      ]
    }
  ],
  "metadata": {
    "colab": {
      "provenance": []
    },
    "deepnote": {},
    "deepnote_execution_queue": [],
    "deepnote_notebook_id": "5ac857b1b9704b5da364ced94068f435",
    "gpuClass": "standard",
    "kernelspec": {
      "display_name": "Python 3.9.6 64-bit",
      "language": "python",
      "name": "python3"
    },
    "language_info": {
      "name": "python",
      "version": "3.9.6"
    },
    "orig_nbformat": 2,
    "vscode": {
      "interpreter": {
        "hash": "31f2aee4e71d21fbe5cf8b01ff0e069b9275f58929596ceb00d14d90e3e16cd6"
      }
    }
  },
  "nbformat": 4,
  "nbformat_minor": 0
}
